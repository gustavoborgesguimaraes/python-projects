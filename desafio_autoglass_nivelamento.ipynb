{
  "cells": [
    {
      "cell_type": "markdown",
      "metadata": {
        "id": "view-in-github",
        "colab_type": "text"
      },
      "source": [
        "<a href=\"https://colab.research.google.com/github/gustavoborgesguimaraes/python-projects/blob/main/desafio_autoglass_nivelamento.ipynb\" target=\"_parent\"><img src=\"https://colab.research.google.com/assets/colab-badge.svg\" alt=\"Open In Colab\"/></a>"
      ]
    },
    {
      "cell_type": "markdown",
      "id": "580dd39c-f066-4c32-af47-648eb71f5918",
      "metadata": {
        "tags": [],
        "id": "580dd39c-f066-4c32-af47-648eb71f5918"
      },
      "source": [
        "# Autor: Gustavo Borges Guimarães\n",
        "\n",
        "# Desafio: Consumo de Dados para Previsão do Tempo dos Municípios do ES.\n",
        "\n",
        "## Objetivo\n",
        "\n",
        "Avaliar conhecimentos nas linguagens Python e SQL e na engine de processamento Apache Spark.\n",
        "\n",
        "## Descrição\n",
        "\n",
        "Neste desafio, você desenvolverá um notebook que será responsável por extrair dados de previsão do tempo dos municípios do ES. Para consultar todas as cidades dessa região, utilizaremos a API do IBGE. No caso, basta realizar uma requisição HTTP com o método GET, utilizando a URL abaixo:\n",
        "\n",
        "```\n",
        "https://servicodados.ibge.gov.br/api/v1/localidades/estados/32/municipios\n",
        "```\n",
        "\n",
        "Com esses dados, gerar um data frame e a partir dele uma temp view. Ex: \"cities\"\n",
        "\n",
        "Utilizando os nomes das cidades, deverão ser consultados os dados de previsão de tempo para cada município. Para realizar essa consulta, poderá ser utilizada qualquer uma das APIs informadas no link abaixo.\n",
        "\n",
        "[Public APIs - Wather](https://github.com/public-apis/public-apis#weather)\n",
        "\n",
        "Obs.: Para algumas, pode ser necessário cadastrar-se para acessar sua API Key. Mas nenhuma delas deve precisar cadastrar cartão de crédito ou adicionar qualquer valor monetário para utilizar. Caso alguma solicite, basta optar por outra.\n",
        "\n",
        "Com os dados consultados, gerar um data frame e partir dele outra temp view. Ex: \"forecasts\"\n",
        "\n",
        "Com as temp views geradas, utilizar Spark SQL para criar queries e gerar data frames das seguintes tabelas:\n",
        "\n",
        "- Tabela 1: dados de previsão do tempo para os próximos cinco dias, para cada data e cidade consultadas. As colunas dessa tabela serão:\n",
        "    - Cidade\n",
        "    - CodigoDaCidade\n",
        "    - Data\n",
        "    - Regiao\n",
        "    - Pais\n",
        "    - Latitude\n",
        "    - Longigute\n",
        "    - TemperaturaMaxima\n",
        "    - TemperaturaMinima\n",
        "    - TemperaturaMedia\n",
        "    - VaiChover\n",
        "    - ChanceDeChuva\n",
        "    - CondicaoDoTempo\n",
        "    - NascerDoSol\n",
        "    - PorDoSol\n",
        "    - VelocidadeMaximaDoVento\n",
        "    \n",
        "    Obs.: Os valores da coluna \"VaiChover\" deverá ser \"Sim\" ou \"Não\". E a coluna \"CodigoDaCidade\" é o ID retornado junto com os nomes da cidades na API do IBGE.\n",
        "    Obs.: Dependendo da API utilizada, algumas colunas podem não existir e ficarão em branco. Você deve optar por uma API que traga o maior número de informações possível.\n",
        "\n",
        "- Tabela 2: quantidade de dias com chuva e sem chuva para os dias consultados, para cada data consultada. Colunas:\n",
        "    - Cidade\n",
        "    - QtdDiasVaiChover\n",
        "    - QtdDiasNaoVaiChover\n",
        "    - TotalDiasMapeados\n",
        "\n",
        "Essas tabelas deverão ser exportadas em formado CSV e entregue no final do desafio.\n",
        "\n",
        "## To Do\n",
        "\n",
        "[ ] - Consultar municípios do ES, gerar um data frame e criar uma temp view com esses dados.\n",
        "[ ] - Consultar dados do tempo para cada município, gerar um data frame e criar uma outra temp view.\n",
        "[ ] - Utilizar Spark SQL para gerar os data frames das Tabelas 1 e 2.\n",
        "[ ] - Exportar os data frames para CSV.\n",
        "\n",
        "## Atenção\n",
        "\n",
        "- Existe um limite de requisições de 10000 requests por conta cadastrada na m3o.\n",
        "- Essa API pode retornar cidades de outras regiões que possuem nome semelhante a alguma cidade do ES. Pode mantê-las ou filtrar para gerar as tabelas apenas com dados de Regiao = Vila Velha. Fica a seu critério.\n",
        "\n",
        "## Entregando o desafio\n",
        "\n",
        "Concluindo todos os passos informados em To Do, basta salvar o arquivo .ipynb do notebook e zipar juntamente com os CSVs das duas tabelas e postar no grupo do Teams.\n",
        "\n"
      ]
    },
    {
      "cell_type": "markdown",
      "id": "ac91e04c",
      "metadata": {
        "id": "ac91e04c"
      },
      "source": [
        "PREPA-----------------------------------------------\n",
        "### Caso queira utilizar o colab do google para executar o script Spark descomente as linhas abaixo"
      ]
    },
    {
      "cell_type": "code",
      "execution_count": null,
      "id": "a1cb6c40-3073-43b0-b7f4-95e7c9dd8245",
      "metadata": {
        "tags": [],
        "id": "a1cb6c40-3073-43b0-b7f4-95e7c9dd8245"
      },
      "outputs": [],
      "source": [
        "#PREPARAÇÃO DO AMBIENTE.\n",
        "\n",
        "#Instalando o JDK.\n",
        "!apt-get install openjdk-11-jdk-headless -qq > /dev/null\n",
        "\n",
        "#Baixando o Apache Hadoop.\n",
        "!wget -q https://dlcdn.apache.org/spark/spark-3.3.1/spark-3.3.1-bin-hadoop3.tgz\n",
        "\n",
        "#Descompactando o Apache Hadoop.\n",
        "!tar xf spark-3.3.1-bin-hadoop3.tgz\n",
        "\n",
        "#Definindo as variáveis de ambiente do Java e do Spark.\n",
        "import os\n",
        "os.environ[\"JAVA_HOME\"] = \"/usr/lib/jvm/java-11-openjdk-amd64\"\n",
        "os.environ[\"SPARK_HOME\"] = \"/content/spark-3.3.1-bin-hadoop3\"\n",
        "\n",
        "#Baixando o ngrok.\n",
        "!wget https://bin.equinox.io/c/4VmDzA7iaHb/ngrok-stable-linux-amd64.zip\n",
        "\n",
        "#Descompactando o ngrok.\n",
        "!unzip ngrok-stable-linux-amd64.zip\n",
        "\n",
        "#Definindo a URL local para a consumo da API.\n",
        "get_ipython().system_raw('./ngrok http 4050 &')\n",
        "!curl -s http://localhost:4040/api/tunnels\n",
        "\n",
        "#Instalando o FindSpark.\n",
        "!pip install -q findspark\n",
        "\n",
        "#Instalando o UniDecode.\n",
        "!pip install -q unidecode\n",
        "\n",
        "#Importando os módulos/libs que serão usados.\n",
        "import findspark\n",
        "findspark.init()\n",
        "from pyspark.sql import SparkSession\n",
        "from pyspark.sql import functions as F\n",
        "from pyspark import SparkContext\n",
        "import requests\n",
        "import json\n",
        "from pprint import pprint\n",
        "import unidecode\n",
        "import pandas as pd\n",
        "\n",
        "#Buildando o Spark Session\n",
        "spark = SparkSession.builder \\\n",
        "        .master(\"local[1]\") \\\n",
        "        .appName(\"SparkbyExamples.com\") \\\n",
        "        .config('spark.ui.port', '4050') \\\n",
        "        .getOrCreate()"
      ]
    },
    {
      "cell_type": "code",
      "source": [
        "#Constante da Unidade Federativa do ES\n",
        "#Para mais, consulte em \"servicodados.ibge.gov.br\"\n",
        "CodUF = '32'\n",
        "\n",
        "#Endereço da API do IBGE\n",
        "UrlDaApi = f\"https://servicodados.ibge.gov.br/api/v1/localidades/estados/{CodUF}/municipios\"\n",
        "\n",
        "#Efetuando a requisição na API do IBGE\n",
        "RequestDaApi = requests.get(UrlDaApi)"
      ],
      "metadata": {
        "id": "C8WBD1Gm9Hq5"
      },
      "id": "C8WBD1Gm9Hq5",
      "execution_count": 11,
      "outputs": []
    },
    {
      "cell_type": "code",
      "source": [
        "#Convertento o retorno da API em JSON\n",
        "JsonObject = RequestDaApi.json()\n",
        "\n",
        "#Criando um arquivo local identado para melhor visualização.\n",
        "with open('JsonFileResponse.json', 'w') as json_file:\n",
        "  json.dump(JsonObject, json_file, indent=4)\n",
        "\n",
        "#Criando o DataFrame GERAL do Objeto Json\n",
        "df = spark.createDataFrame(JsonObject)\n",
        "\n",
        "#Criando um DataFrame de cidades com colunas específicas.\n",
        "df_cidades = df.withColumn(\"CodCidade\", F.col(\"id\"))\\\n",
        "               .withColumn(\"NomeCidade\", F.col(\"nome\"))\\\n",
        "               .drop(\"id\", \"microrregiao\", \"nome\", \"regiao-imediata\")\n",
        "\n",
        "#Contando o número de registros do DataFrame Cidades\n",
        "QtdRowsDataFrameCidades = df.count()\n",
        "print('Existem ' +  str(QtdRowsDataFrameCidades) + ' linhas no DataFrame Cidades')\n",
        "\n",
        "#Visualizando todos os registros do Data frame Cidades\n",
        "df_cidades.show(QtdRowsDataFrameCidades)"
      ],
      "metadata": {
        "id": "08sjyWTHSILo"
      },
      "id": "08sjyWTHSILo",
      "execution_count": null,
      "outputs": []
    },
    {
      "cell_type": "code",
      "source": [
        "#Criando a TempView \"cities\"\n",
        "df_cidades.createOrReplaceTempView(\"cities\")\n",
        "\n",
        "#Testando a consulta SparkSQL na TempView\n",
        "VarCity = spark.sql('select * from cities where NomeCidade = \"Vitória\"')\n",
        "VarCity.head()"
      ],
      "metadata": {
        "colab": {
          "base_uri": "https://localhost:8080/"
        },
        "id": "txAb_fDgTWyM",
        "outputId": "c6aafd01-f1eb-45b6-ccc8-6afabb517c0e"
      },
      "id": "txAb_fDgTWyM",
      "execution_count": 13,
      "outputs": [
        {
          "output_type": "execute_result",
          "data": {
            "text/plain": [
              "Row(CodCidade=3205309, NomeCidade='Vitória')"
            ]
          },
          "metadata": {},
          "execution_count": 13
        }
      ]
    },
    {
      "cell_type": "code",
      "source": [
        "#Constantes\n",
        "MyAPIKey = \"d15318e0f35125eb2040ecd74952410a\"\n",
        "CityName = \"Vitória\"\n",
        "StateCod = \"ES\"\n",
        "CountryCod = \"BR\"\n",
        "\n",
        "#Exemplo da chamada da API:\n",
        "#https://api.openweathermap.org/data/2.5/forecast?q=Vitória,ES,BR&appid=d15318e0f35125eb2040ecd74952410a&lang=pt_br\n",
        "\n",
        "Link = f\"https://api.openweathermap.org/data/2.5/forecast?q={CityName},{StateCod},{CountryCod}&appid={MyAPIKey}&lang=pt_br\"\n",
        "Requisicao = requests.get(Link)\n",
        "RequisicaoDic = Requisicao.json()\n",
        "\n",
        "print(RequisicaoDic)\n",
        "\n",
        "#descricao = RequisicaoDic['weather'][0]['description']\n",
        "#temperatura = RequisicaoDic['main']['temp'] -273.15 #Transformando ºK em ºC\n",
        "#print(descricao, temperatura)"
      ],
      "metadata": {
        "colab": {
          "base_uri": "https://localhost:8080/"
        },
        "id": "f2n_jXsLX2Qa",
        "outputId": "4dfe8b40-576c-47d0-eec6-cc4d7ee840e3"
      },
      "id": "f2n_jXsLX2Qa",
      "execution_count": 28,
      "outputs": [
        {
          "output_type": "stream",
          "name": "stdout",
          "text": [
            "{'cod': '200', 'message': 0, 'cnt': 40, 'list': [{'dt': 1674745200, 'main': {'temp': 299.18, 'feels_like': 299.18, 'temp_min': 298.25, 'temp_max': 299.18, 'pressure': 1013, 'sea_level': 1013, 'grnd_level': 1012, 'humidity': 85, 'temp_kf': 0.93}, 'weather': [{'id': 500, 'main': 'Rain', 'description': 'chuva leve', 'icon': '10d'}], 'clouds': {'all': 75}, 'wind': {'speed': 1.23, 'deg': 169, 'gust': 2.65}, 'visibility': 10000, 'pop': 0.95, 'rain': {'3h': 2.27}, 'sys': {'pod': 'd'}, 'dt_txt': '2023-01-26 15:00:00'}, {'dt': 1674756000, 'main': {'temp': 298.94, 'feels_like': 299.79, 'temp_min': 298.46, 'temp_max': 298.94, 'pressure': 1012, 'sea_level': 1012, 'grnd_level': 1010, 'humidity': 85, 'temp_kf': 0.48}, 'weather': [{'id': 500, 'main': 'Rain', 'description': 'chuva leve', 'icon': '10d'}], 'clouds': {'all': 82}, 'wind': {'speed': 2.15, 'deg': 156, 'gust': 3.05}, 'visibility': 10000, 'pop': 0.9, 'rain': {'3h': 2.48}, 'sys': {'pod': 'd'}, 'dt_txt': '2023-01-26 18:00:00'}, {'dt': 1674766800, 'main': {'temp': 298.19, 'feels_like': 299.02, 'temp_min': 297.69, 'temp_max': 298.19, 'pressure': 1012, 'sea_level': 1012, 'grnd_level': 1010, 'humidity': 87, 'temp_kf': 0.5}, 'weather': [{'id': 500, 'main': 'Rain', 'description': 'chuva leve', 'icon': '10d'}], 'clouds': {'all': 90}, 'wind': {'speed': 1.18, 'deg': 158, 'gust': 1.55}, 'visibility': 10000, 'pop': 0.6, 'rain': {'3h': 0.96}, 'sys': {'pod': 'd'}, 'dt_txt': '2023-01-26 21:00:00'}, {'dt': 1674777600, 'main': {'temp': 296.66, 'feels_like': 297.44, 'temp_min': 296.66, 'temp_max': 296.66, 'pressure': 1014, 'sea_level': 1014, 'grnd_level': 1013, 'humidity': 91, 'temp_kf': 0}, 'weather': [{'id': 500, 'main': 'Rain', 'description': 'chuva leve', 'icon': '10n'}], 'clouds': {'all': 96}, 'wind': {'speed': 1.19, 'deg': 231, 'gust': 1.38}, 'visibility': 9956, 'pop': 0.87, 'rain': {'3h': 1.48}, 'sys': {'pod': 'n'}, 'dt_txt': '2023-01-27 00:00:00'}, {'dt': 1674788400, 'main': {'temp': 296.56, 'feels_like': 297.31, 'temp_min': 296.56, 'temp_max': 296.56, 'pressure': 1014, 'sea_level': 1014, 'grnd_level': 1012, 'humidity': 90, 'temp_kf': 0}, 'weather': [{'id': 500, 'main': 'Rain', 'description': 'chuva leve', 'icon': '10n'}], 'clouds': {'all': 100}, 'wind': {'speed': 1.52, 'deg': 258, 'gust': 1.51}, 'visibility': 10000, 'pop': 0.75, 'rain': {'3h': 1.14}, 'sys': {'pod': 'n'}, 'dt_txt': '2023-01-27 03:00:00'}, {'dt': 1674799200, 'main': {'temp': 296.1, 'feels_like': 296.8, 'temp_min': 296.1, 'temp_max': 296.1, 'pressure': 1012, 'sea_level': 1012, 'grnd_level': 1011, 'humidity': 90, 'temp_kf': 0}, 'weather': [{'id': 804, 'main': 'Clouds', 'description': 'nublado', 'icon': '04n'}], 'clouds': {'all': 100}, 'wind': {'speed': 1.3, 'deg': 281, 'gust': 1.35}, 'visibility': 10000, 'pop': 0.6, 'sys': {'pod': 'n'}, 'dt_txt': '2023-01-27 06:00:00'}, {'dt': 1674810000, 'main': {'temp': 295.97, 'feels_like': 296.66, 'temp_min': 295.97, 'temp_max': 295.97, 'pressure': 1014, 'sea_level': 1014, 'grnd_level': 1012, 'humidity': 90, 'temp_kf': 0}, 'weather': [{'id': 500, 'main': 'Rain', 'description': 'chuva leve', 'icon': '10d'}], 'clouds': {'all': 70}, 'wind': {'speed': 1.14, 'deg': 319, 'gust': 1.12}, 'visibility': 10000, 'pop': 0.36, 'rain': {'3h': 0.13}, 'sys': {'pod': 'd'}, 'dt_txt': '2023-01-27 09:00:00'}, {'dt': 1674820800, 'main': {'temp': 299.25, 'feels_like': 299.25, 'temp_min': 299.25, 'temp_max': 299.25, 'pressure': 1015, 'sea_level': 1015, 'grnd_level': 1013, 'humidity': 76, 'temp_kf': 0}, 'weather': [{'id': 803, 'main': 'Clouds', 'description': 'nublado', 'icon': '04d'}], 'clouds': {'all': 58}, 'wind': {'speed': 1.72, 'deg': 29, 'gust': 2.93}, 'visibility': 10000, 'pop': 0.37, 'sys': {'pod': 'd'}, 'dt_txt': '2023-01-27 12:00:00'}, {'dt': 1674831600, 'main': {'temp': 300.36, 'feels_like': 302.75, 'temp_min': 300.36, 'temp_max': 300.36, 'pressure': 1014, 'sea_level': 1014, 'grnd_level': 1012, 'humidity': 74, 'temp_kf': 0}, 'weather': [{'id': 500, 'main': 'Rain', 'description': 'chuva leve', 'icon': '10d'}], 'clouds': {'all': 80}, 'wind': {'speed': 3.54, 'deg': 70, 'gust': 4.05}, 'visibility': 10000, 'pop': 0.39, 'rain': {'3h': 0.63}, 'sys': {'pod': 'd'}, 'dt_txt': '2023-01-27 15:00:00'}, {'dt': 1674842400, 'main': {'temp': 299.82, 'feels_like': 302.17, 'temp_min': 299.82, 'temp_max': 299.82, 'pressure': 1012, 'sea_level': 1012, 'grnd_level': 1011, 'humidity': 80, 'temp_kf': 0}, 'weather': [{'id': 500, 'main': 'Rain', 'description': 'chuva leve', 'icon': '10d'}], 'clouds': {'all': 84}, 'wind': {'speed': 3.88, 'deg': 71, 'gust': 4.59}, 'visibility': 10000, 'pop': 0.49, 'rain': {'3h': 0.88}, 'sys': {'pod': 'd'}, 'dt_txt': '2023-01-27 18:00:00'}, {'dt': 1674853200, 'main': {'temp': 298.58, 'feels_like': 299.48, 'temp_min': 298.58, 'temp_max': 298.58, 'pressure': 1013, 'sea_level': 1013, 'grnd_level': 1012, 'humidity': 88, 'temp_kf': 0}, 'weather': [{'id': 500, 'main': 'Rain', 'description': 'chuva leve', 'icon': '10d'}], 'clouds': {'all': 60}, 'wind': {'speed': 3.01, 'deg': 41, 'gust': 4.93}, 'visibility': 10000, 'pop': 0.6, 'rain': {'3h': 1.6}, 'sys': {'pod': 'd'}, 'dt_txt': '2023-01-27 21:00:00'}, {'dt': 1674864000, 'main': {'temp': 297.25, 'feels_like': 298.12, 'temp_min': 297.25, 'temp_max': 297.25, 'pressure': 1015, 'sea_level': 1015, 'grnd_level': 1013, 'humidity': 92, 'temp_kf': 0}, 'weather': [{'id': 500, 'main': 'Rain', 'description': 'chuva leve', 'icon': '10n'}], 'clouds': {'all': 72}, 'wind': {'speed': 2.93, 'deg': 8, 'gust': 4.53}, 'visibility': 10000, 'pop': 0.52, 'rain': {'3h': 0.15}, 'sys': {'pod': 'n'}, 'dt_txt': '2023-01-28 00:00:00'}, {'dt': 1674874800, 'main': {'temp': 296.44, 'feels_like': 297.28, 'temp_min': 296.44, 'temp_max': 296.44, 'pressure': 1015, 'sea_level': 1015, 'grnd_level': 1013, 'humidity': 94, 'temp_kf': 0}, 'weather': [{'id': 804, 'main': 'Clouds', 'description': 'nublado', 'icon': '04n'}], 'clouds': {'all': 100}, 'wind': {'speed': 2.71, 'deg': 346, 'gust': 3.76}, 'visibility': 10000, 'pop': 0.03, 'sys': {'pod': 'n'}, 'dt_txt': '2023-01-28 03:00:00'}, {'dt': 1674885600, 'main': {'temp': 295.91, 'feels_like': 296.67, 'temp_min': 295.91, 'temp_max': 295.91, 'pressure': 1013, 'sea_level': 1013, 'grnd_level': 1012, 'humidity': 93, 'temp_kf': 0}, 'weather': [{'id': 804, 'main': 'Clouds', 'description': 'nublado', 'icon': '04n'}], 'clouds': {'all': 95}, 'wind': {'speed': 2.77, 'deg': 353, 'gust': 4.1}, 'visibility': 10000, 'pop': 0.12, 'sys': {'pod': 'n'}, 'dt_txt': '2023-01-28 06:00:00'}, {'dt': 1674896400, 'main': {'temp': 295.83, 'feels_like': 296.56, 'temp_min': 295.83, 'temp_max': 295.83, 'pressure': 1015, 'sea_level': 1015, 'grnd_level': 1014, 'humidity': 92, 'temp_kf': 0}, 'weather': [{'id': 802, 'main': 'Clouds', 'description': 'nuvens dispersas', 'icon': '03d'}], 'clouds': {'all': 45}, 'wind': {'speed': 2.41, 'deg': 346, 'gust': 3.43}, 'visibility': 10000, 'pop': 0.17, 'sys': {'pod': 'd'}, 'dt_txt': '2023-01-28 09:00:00'}, {'dt': 1674907200, 'main': {'temp': 300.25, 'feels_like': 302.26, 'temp_min': 300.25, 'temp_max': 300.25, 'pressure': 1016, 'sea_level': 1016, 'grnd_level': 1015, 'humidity': 71, 'temp_kf': 0}, 'weather': [{'id': 802, 'main': 'Clouds', 'description': 'nuvens dispersas', 'icon': '03d'}], 'clouds': {'all': 45}, 'wind': {'speed': 2.91, 'deg': 10, 'gust': 4.66}, 'visibility': 10000, 'pop': 0.05, 'sys': {'pod': 'd'}, 'dt_txt': '2023-01-28 12:00:00'}, {'dt': 1674918000, 'main': {'temp': 302.26, 'feels_like': 305.2, 'temp_min': 302.26, 'temp_max': 302.26, 'pressure': 1015, 'sea_level': 1015, 'grnd_level': 1013, 'humidity': 65, 'temp_kf': 0}, 'weather': [{'id': 803, 'main': 'Clouds', 'description': 'nublado', 'icon': '04d'}], 'clouds': {'all': 78}, 'wind': {'speed': 4.33, 'deg': 58, 'gust': 4.88}, 'visibility': 10000, 'pop': 0.26, 'sys': {'pod': 'd'}, 'dt_txt': '2023-01-28 15:00:00'}, {'dt': 1674928800, 'main': {'temp': 300.09, 'feels_like': 302.85, 'temp_min': 300.09, 'temp_max': 300.09, 'pressure': 1013, 'sea_level': 1013, 'grnd_level': 1012, 'humidity': 81, 'temp_kf': 0}, 'weather': [{'id': 500, 'main': 'Rain', 'description': 'chuva leve', 'icon': '10d'}], 'clouds': {'all': 88}, 'wind': {'speed': 4.89, 'deg': 63, 'gust': 6.38}, 'visibility': 10000, 'pop': 0.48, 'rain': {'3h': 1.1}, 'sys': {'pod': 'd'}, 'dt_txt': '2023-01-28 18:00:00'}, {'dt': 1674939600, 'main': {'temp': 298.52, 'feels_like': 299.44, 'temp_min': 298.52, 'temp_max': 298.52, 'pressure': 1014, 'sea_level': 1014, 'grnd_level': 1013, 'humidity': 89, 'temp_kf': 0}, 'weather': [{'id': 500, 'main': 'Rain', 'description': 'chuva leve', 'icon': '10d'}], 'clouds': {'all': 93}, 'wind': {'speed': 3.63, 'deg': 43, 'gust': 5.63}, 'visibility': 10000, 'pop': 0.61, 'rain': {'3h': 1.23}, 'sys': {'pod': 'd'}, 'dt_txt': '2023-01-28 21:00:00'}, {'dt': 1674950400, 'main': {'temp': 297.47, 'feels_like': 298.36, 'temp_min': 297.47, 'temp_max': 297.47, 'pressure': 1016, 'sea_level': 1016, 'grnd_level': 1014, 'humidity': 92, 'temp_kf': 0}, 'weather': [{'id': 500, 'main': 'Rain', 'description': 'chuva leve', 'icon': '10n'}], 'clouds': {'all': 96}, 'wind': {'speed': 3.28, 'deg': 14, 'gust': 5.23}, 'visibility': 10000, 'pop': 0.62, 'rain': {'3h': 0.15}, 'sys': {'pod': 'n'}, 'dt_txt': '2023-01-29 00:00:00'}, {'dt': 1674961200, 'main': {'temp': 296.58, 'feels_like': 297.41, 'temp_min': 296.58, 'temp_max': 296.58, 'pressure': 1015, 'sea_level': 1015, 'grnd_level': 1013, 'humidity': 93, 'temp_kf': 0}, 'weather': [{'id': 803, 'main': 'Clouds', 'description': 'nublado', 'icon': '04n'}], 'clouds': {'all': 66}, 'wind': {'speed': 3.13, 'deg': 357, 'gust': 5.06}, 'visibility': 10000, 'pop': 0.25, 'sys': {'pod': 'n'}, 'dt_txt': '2023-01-29 03:00:00'}, {'dt': 1674972000, 'main': {'temp': 295.98, 'feels_like': 296.75, 'temp_min': 295.98, 'temp_max': 295.98, 'pressure': 1013, 'sea_level': 1013, 'grnd_level': 1012, 'humidity': 93, 'temp_kf': 0}, 'weather': [{'id': 802, 'main': 'Clouds', 'description': 'nuvens dispersas', 'icon': '03n'}], 'clouds': {'all': 45}, 'wind': {'speed': 2.76, 'deg': 351, 'gust': 4.06}, 'visibility': 10000, 'pop': 0.25, 'sys': {'pod': 'n'}, 'dt_txt': '2023-01-29 06:00:00'}, {'dt': 1674982800, 'main': {'temp': 295.97, 'feels_like': 296.68, 'temp_min': 295.97, 'temp_max': 295.97, 'pressure': 1015, 'sea_level': 1015, 'grnd_level': 1013, 'humidity': 91, 'temp_kf': 0}, 'weather': [{'id': 804, 'main': 'Clouds', 'description': 'nublado', 'icon': '04d'}], 'clouds': {'all': 98}, 'wind': {'speed': 2.67, 'deg': 351, 'gust': 3.87}, 'visibility': 10000, 'pop': 0.07, 'sys': {'pod': 'd'}, 'dt_txt': '2023-01-29 09:00:00'}, {'dt': 1674993600, 'main': {'temp': 300.05, 'feels_like': 302.08, 'temp_min': 300.05, 'temp_max': 300.05, 'pressure': 1015, 'sea_level': 1015, 'grnd_level': 1013, 'humidity': 73, 'temp_kf': 0}, 'weather': [{'id': 804, 'main': 'Clouds', 'description': 'nublado', 'icon': '04d'}], 'clouds': {'all': 99}, 'wind': {'speed': 3.41, 'deg': 7, 'gust': 5.42}, 'visibility': 10000, 'pop': 0.07, 'sys': {'pod': 'd'}, 'dt_txt': '2023-01-29 12:00:00'}, {'dt': 1675004400, 'main': {'temp': 302.52, 'feels_like': 305.72, 'temp_min': 302.52, 'temp_max': 302.52, 'pressure': 1013, 'sea_level': 1013, 'grnd_level': 1011, 'humidity': 65, 'temp_kf': 0}, 'weather': [{'id': 804, 'main': 'Clouds', 'description': 'nublado', 'icon': '04d'}], 'clouds': {'all': 100}, 'wind': {'speed': 5.17, 'deg': 45, 'gust': 6.08}, 'visibility': 10000, 'pop': 0, 'sys': {'pod': 'd'}, 'dt_txt': '2023-01-29 15:00:00'}, {'dt': 1675015200, 'main': {'temp': 300.95, 'feels_like': 304.2, 'temp_min': 300.95, 'temp_max': 300.95, 'pressure': 1011, 'sea_level': 1011, 'grnd_level': 1010, 'humidity': 76, 'temp_kf': 0}, 'weather': [{'id': 500, 'main': 'Rain', 'description': 'chuva leve', 'icon': '10d'}], 'clouds': {'all': 95}, 'wind': {'speed': 6.9, 'deg': 54, 'gust': 8.12}, 'visibility': 10000, 'pop': 0.24, 'rain': {'3h': 0.27}, 'sys': {'pod': 'd'}, 'dt_txt': '2023-01-29 18:00:00'}, {'dt': 1675026000, 'main': {'temp': 298.91, 'feels_like': 299.76, 'temp_min': 298.91, 'temp_max': 298.91, 'pressure': 1012, 'sea_level': 1012, 'grnd_level': 1010, 'humidity': 85, 'temp_kf': 0}, 'weather': [{'id': 500, 'main': 'Rain', 'description': 'chuva leve', 'icon': '10d'}], 'clouds': {'all': 65}, 'wind': {'speed': 5.37, 'deg': 44, 'gust': 8.05}, 'visibility': 10000, 'pop': 0.49, 'rain': {'3h': 0.41}, 'sys': {'pod': 'd'}, 'dt_txt': '2023-01-29 21:00:00'}, {'dt': 1675036800, 'main': {'temp': 297.78, 'feels_like': 298.65, 'temp_min': 297.78, 'temp_max': 297.78, 'pressure': 1013, 'sea_level': 1013, 'grnd_level': 1012, 'humidity': 90, 'temp_kf': 0}, 'weather': [{'id': 803, 'main': 'Clouds', 'description': 'nublado', 'icon': '04n'}], 'clouds': {'all': 82}, 'wind': {'speed': 4.49, 'deg': 21, 'gust': 7.22}, 'visibility': 10000, 'pop': 0.41, 'sys': {'pod': 'n'}, 'dt_txt': '2023-01-30 00:00:00'}, {'dt': 1675047600, 'main': {'temp': 296.97, 'feels_like': 297.78, 'temp_min': 296.97, 'temp_max': 296.97, 'pressure': 1013, 'sea_level': 1013, 'grnd_level': 1012, 'humidity': 91, 'temp_kf': 0}, 'weather': [{'id': 804, 'main': 'Clouds', 'description': 'nublado', 'icon': '04n'}], 'clouds': {'all': 100}, 'wind': {'speed': 3.76, 'deg': 5, 'gust': 6.73}, 'visibility': 10000, 'pop': 0, 'sys': {'pod': 'n'}, 'dt_txt': '2023-01-30 03:00:00'}, {'dt': 1675058400, 'main': {'temp': 296.23, 'feels_like': 296.97, 'temp_min': 296.23, 'temp_max': 296.23, 'pressure': 1012, 'sea_level': 1012, 'grnd_level': 1010, 'humidity': 91, 'temp_kf': 0}, 'weather': [{'id': 804, 'main': 'Clouds', 'description': 'nublado', 'icon': '04n'}], 'clouds': {'all': 99}, 'wind': {'speed': 3.22, 'deg': 2, 'gust': 5.09}, 'visibility': 10000, 'pop': 0.07, 'sys': {'pod': 'n'}, 'dt_txt': '2023-01-30 06:00:00'}, {'dt': 1675069200, 'main': {'temp': 296.1, 'feels_like': 296.77, 'temp_min': 296.1, 'temp_max': 296.1, 'pressure': 1014, 'sea_level': 1014, 'grnd_level': 1012, 'humidity': 89, 'temp_kf': 0}, 'weather': [{'id': 804, 'main': 'Clouds', 'description': 'nublado', 'icon': '04d'}], 'clouds': {'all': 99}, 'wind': {'speed': 3.1, 'deg': 355, 'gust': 4.79}, 'visibility': 10000, 'pop': 0, 'sys': {'pod': 'd'}, 'dt_txt': '2023-01-30 09:00:00'}, {'dt': 1675080000, 'main': {'temp': 299.76, 'feels_like': 299.76, 'temp_min': 299.76, 'temp_max': 299.76, 'pressure': 1015, 'sea_level': 1015, 'grnd_level': 1013, 'humidity': 68, 'temp_kf': 0}, 'weather': [{'id': 804, 'main': 'Clouds', 'description': 'nublado', 'icon': '04d'}], 'clouds': {'all': 98}, 'wind': {'speed': 4.19, 'deg': 12, 'gust': 6.54}, 'visibility': 10000, 'pop': 0, 'sys': {'pod': 'd'}, 'dt_txt': '2023-01-30 12:00:00'}, {'dt': 1675090800, 'main': {'temp': 301.71, 'feels_like': 304.31, 'temp_min': 301.71, 'temp_max': 301.71, 'pressure': 1014, 'sea_level': 1014, 'grnd_level': 1012, 'humidity': 66, 'temp_kf': 0}, 'weather': [{'id': 803, 'main': 'Clouds', 'description': 'nublado', 'icon': '04d'}], 'clouds': {'all': 83}, 'wind': {'speed': 5.25, 'deg': 44, 'gust': 6.27}, 'visibility': 10000, 'pop': 0, 'sys': {'pod': 'd'}, 'dt_txt': '2023-01-30 15:00:00'}, {'dt': 1675101600, 'main': {'temp': 301.07, 'feels_like': 303.17, 'temp_min': 301.07, 'temp_max': 301.07, 'pressure': 1013, 'sea_level': 1013, 'grnd_level': 1011, 'humidity': 66, 'temp_kf': 0}, 'weather': [{'id': 804, 'main': 'Clouds', 'description': 'nublado', 'icon': '04d'}], 'clouds': {'all': 86}, 'wind': {'speed': 6.12, 'deg': 59, 'gust': 6.75}, 'visibility': 10000, 'pop': 0, 'sys': {'pod': 'd'}, 'dt_txt': '2023-01-30 18:00:00'}, {'dt': 1675112400, 'main': {'temp': 298.67, 'feels_like': 299.34, 'temp_min': 298.67, 'temp_max': 298.67, 'pressure': 1013, 'sea_level': 1013, 'grnd_level': 1012, 'humidity': 79, 'temp_kf': 0}, 'weather': [{'id': 803, 'main': 'Clouds', 'description': 'nublado', 'icon': '04d'}], 'clouds': {'all': 84}, 'wind': {'speed': 4.41, 'deg': 45, 'gust': 6.83}, 'visibility': 10000, 'pop': 0.01, 'sys': {'pod': 'd'}, 'dt_txt': '2023-01-30 21:00:00'}, {'dt': 1675123200, 'main': {'temp': 296.84, 'feels_like': 297.51, 'temp_min': 296.84, 'temp_max': 296.84, 'pressure': 1015, 'sea_level': 1015, 'grnd_level': 1014, 'humidity': 86, 'temp_kf': 0}, 'weather': [{'id': 803, 'main': 'Clouds', 'description': 'nublado', 'icon': '04n'}], 'clouds': {'all': 60}, 'wind': {'speed': 2.95, 'deg': 5, 'gust': 4.48}, 'visibility': 10000, 'pop': 0.01, 'sys': {'pod': 'n'}, 'dt_txt': '2023-01-31 00:00:00'}, {'dt': 1675134000, 'main': {'temp': 295.98, 'feels_like': 296.54, 'temp_min': 295.98, 'temp_max': 295.98, 'pressure': 1015, 'sea_level': 1015, 'grnd_level': 1014, 'humidity': 85, 'temp_kf': 0}, 'weather': [{'id': 803, 'main': 'Clouds', 'description': 'nublado', 'icon': '04n'}], 'clouds': {'all': 80}, 'wind': {'speed': 2.05, 'deg': 336, 'gust': 2.71}, 'visibility': 10000, 'pop': 0.34, 'sys': {'pod': 'n'}, 'dt_txt': '2023-01-31 03:00:00'}, {'dt': 1675144800, 'main': {'temp': 295.72, 'feels_like': 296.2, 'temp_min': 295.72, 'temp_max': 295.72, 'pressure': 1014, 'sea_level': 1014, 'grnd_level': 1012, 'humidity': 83, 'temp_kf': 0}, 'weather': [{'id': 803, 'main': 'Clouds', 'description': 'nublado', 'icon': '04n'}], 'clouds': {'all': 82}, 'wind': {'speed': 2.18, 'deg': 348, 'gust': 2.82}, 'visibility': 10000, 'pop': 0.34, 'sys': {'pod': 'n'}, 'dt_txt': '2023-01-31 06:00:00'}, {'dt': 1675155600, 'main': {'temp': 296.51, 'feels_like': 297.09, 'temp_min': 296.51, 'temp_max': 296.51, 'pressure': 1015, 'sea_level': 1015, 'grnd_level': 1014, 'humidity': 84, 'temp_kf': 0}, 'weather': [{'id': 804, 'main': 'Clouds', 'description': 'nublado', 'icon': '04d'}], 'clouds': {'all': 99}, 'wind': {'speed': 2.09, 'deg': 350, 'gust': 2.84}, 'visibility': 10000, 'pop': 0.33, 'sys': {'pod': 'd'}, 'dt_txt': '2023-01-31 09:00:00'}, {'dt': 1675166400, 'main': {'temp': 299.76, 'feels_like': 299.76, 'temp_min': 299.76, 'temp_max': 299.76, 'pressure': 1016, 'sea_level': 1016, 'grnd_level': 1014, 'humidity': 74, 'temp_kf': 0}, 'weather': [{'id': 804, 'main': 'Clouds', 'description': 'nublado', 'icon': '04d'}], 'clouds': {'all': 86}, 'wind': {'speed': 3.39, 'deg': 32, 'gust': 5.09}, 'visibility': 10000, 'pop': 0.43, 'sys': {'pod': 'd'}, 'dt_txt': '2023-01-31 12:00:00'}], 'city': {'id': 3444924, 'name': 'Vitória', 'coord': {'lat': -20.3194, 'lon': -40.3378}, 'country': 'BR', 'population': 312656, 'timezone': -10800, 'sunrise': 1674721261, 'sunset': 1674768382}}\n"
          ]
        }
      ]
    },
    {
      "cell_type": "markdown",
      "id": "0829960a",
      "metadata": {
        "id": "0829960a"
      },
      "source": [
        "-------------------------------------------------"
      ]
    }
  ],
  "metadata": {
    "kernelspec": {
      "display_name": "base",
      "language": "python",
      "name": "python3"
    },
    "language_info": {
      "codemirror_mode": {
        "name": "ipython",
        "version": 3
      },
      "file_extension": ".py",
      "mimetype": "text/x-python",
      "name": "python",
      "nbconvert_exporter": "python",
      "pygments_lexer": "ipython3",
      "version": "3.9.13 (main, Aug 25 2022, 23:26:10) \n[GCC 11.2.0]"
    },
    "vscode": {
      "interpreter": {
        "hash": "a45cd9dd122d240dcc4ef38faedf9d2d3fd8f7b31d6f5582a2663b9810b40f8f"
      }
    },
    "colab": {
      "provenance": [],
      "include_colab_link": true
    }
  },
  "nbformat": 4,
  "nbformat_minor": 5
}