{
  "cells": [
    {
      "cell_type": "markdown",
      "metadata": {
        "id": "view-in-github",
        "colab_type": "text"
      },
      "source": [
        "<a href=\"https://colab.research.google.com/github/gustavoborgesguimaraes/python-projects/blob/main/desafio_autoglass_nivelamento.ipynb\" target=\"_parent\"><img src=\"https://colab.research.google.com/assets/colab-badge.svg\" alt=\"Open In Colab\"/></a>"
      ]
    },
    {
      "cell_type": "markdown",
      "id": "580dd39c-f066-4c32-af47-648eb71f5918",
      "metadata": {
        "tags": [],
        "id": "580dd39c-f066-4c32-af47-648eb71f5918"
      },
      "source": [
        "# Autor: Gustavo Borges Guimarães\n",
        "\n",
        "# Desafio: Consumo de Dados para Previsão do Tempo dos Municípios do ES.\n",
        "\n",
        "## Objetivo\n",
        "\n",
        "Avaliar conhecimentos nas linguagens Python e SQL e na engine de processamento Apache Spark.\n",
        "\n",
        "## Descrição\n",
        "\n",
        "Neste desafio, você desenvolverá um notebook que será responsável por extrair dados de previsão do tempo dos municípios do ES. Para consultar todas as cidades dessa região, utilizaremos a API do IBGE. No caso, basta realizar uma requisição HTTP com o método GET, utilizando a URL abaixo:\n",
        "\n",
        "```\n",
        "https://servicodados.ibge.gov.br/api/v1/localidades/estados/32/municipios\n",
        "```\n",
        "\n",
        "Com esses dados, gerar um data frame e a partir dele uma temp view. Ex: \"cities\"\n",
        "\n",
        "Utilizando os nomes das cidades, deverão ser consultados os dados de previsão de tempo para cada município. Para realizar essa consulta, poderá ser utilizada qualquer uma das APIs informadas no link abaixo.\n",
        "\n",
        "[Public APIs - Wather](https://github.com/public-apis/public-apis#weather)\n",
        "\n",
        "Obs.: Para algumas, pode ser necessário cadastrar-se para acessar sua API Key. Mas nenhuma delas deve precisar cadastrar cartão de crédito ou adicionar qualquer valor monetário para utilizar. Caso alguma solicite, basta optar por outra.\n",
        "\n",
        "Com os dados consultados, gerar um data frame e partir dele outra temp view. Ex: \"forecasts\"\n",
        "\n",
        "Com as temp views geradas, utilizar Spark SQL para criar queries e gerar data frames das seguintes tabelas:\n",
        "\n",
        "- Tabela 1: dados de previsão do tempo para os próximos cinco dias, para cada data e cidade consultadas. As colunas dessa tabela serão:\n",
        "    - Cidade\n",
        "    - CodigoDaCidade\n",
        "    - Data\n",
        "    - Regiao\n",
        "    - Pais\n",
        "    - Latitude\n",
        "    - Longigute\n",
        "    - TemperaturaMaxima\n",
        "    - TemperaturaMinima\n",
        "    - TemperaturaMedia\n",
        "    - VaiChover\n",
        "    - ChanceDeChuva\n",
        "    - CondicaoDoTempo\n",
        "    - NascerDoSol\n",
        "    - PorDoSol\n",
        "    - VelocidadeMaximaDoVento\n",
        "    \n",
        "    Obs.: Os valores da coluna \"VaiChover\" deverá ser \"Sim\" ou \"Não\". E a coluna \"CodigoDaCidade\" é o ID retornado junto com os nomes da cidades na API do IBGE.\n",
        "    Obs.: Dependendo da API utilizada, algumas colunas podem não existir e ficarão em branco. Você deve optar por uma API que traga o maior número de informações possível.\n",
        "\n",
        "- Tabela 2: quantidade de dias com chuva e sem chuva para os dias consultados, para cada data consultada. Colunas:\n",
        "    - Cidade\n",
        "    - QtdDiasVaiChover\n",
        "    - QtdDiasNaoVaiChover\n",
        "    - TotalDiasMapeados\n",
        "\n",
        "Essas tabelas deverão ser exportadas em formado CSV e entregue no final do desafio.\n",
        "\n",
        "## To Do\n",
        "\n",
        "[ ] - Consultar municípios do ES, gerar um data frame e criar uma temp view com esses dados.\n",
        "[ ] - Consultar dados do tempo para cada município, gerar um data frame e criar uma outra temp view.\n",
        "[ ] - Utilizar Spark SQL para gerar os data frames das Tabelas 1 e 2.\n",
        "[ ] - Exportar os data frames para CSV.\n",
        "\n",
        "## Atenção\n",
        "\n",
        "- Existe um limite de requisições de 10000 requests por conta cadastrada na m3o.\n",
        "- Essa API pode retornar cidades de outras regiões que possuem nome semelhante a alguma cidade do ES. Pode mantê-las ou filtrar para gerar as tabelas apenas com dados de Regiao = Vila Velha. Fica a seu critério.\n",
        "\n",
        "## Entregando o desafio\n",
        "\n",
        "Concluindo todos os passos informados em To Do, basta salvar o arquivo .ipynb do notebook e zipar juntamente com os CSVs das duas tabelas e postar no grupo do Teams.\n",
        "\n"
      ]
    },
    {
      "cell_type": "markdown",
      "id": "ac91e04c",
      "metadata": {
        "id": "ac91e04c"
      },
      "source": [
        "-----------------------------------------------\n",
        "### Caso queira utilizar o colab do google para executar o script Spark descomente as linhas abaixo"
      ]
    },
    {
      "cell_type": "code",
      "execution_count": 2,
      "id": "a1cb6c40-3073-43b0-b7f4-95e7c9dd8245",
      "metadata": {
        "tags": [],
        "id": "a1cb6c40-3073-43b0-b7f4-95e7c9dd8245"
      },
      "outputs": [],
      "source": [
        "!apt-get install openjdk-11-jdk-headless -qq > /dev/null\n",
        "!wget -q https://dlcdn.apache.org/spark/spark-3.3.1/spark-3.3.1-bin-hadoop3.tgz\n",
        "!tar xf spark-3.3.1-bin-hadoop3.tgz"
      ]
    },
    {
      "cell_type": "code",
      "execution_count": 3,
      "id": "99b7ca01",
      "metadata": {
        "id": "99b7ca01"
      },
      "outputs": [],
      "source": [
        "import os\n",
        "os.environ[\"JAVA_HOME\"] = \"/usr/lib/jvm/java-11-openjdk-amd64\"\n",
        "os.environ[\"SPARK_HOME\"] = \"/content/spark-3.3.1-bin-hadoop3\""
      ]
    },
    {
      "cell_type": "code",
      "execution_count": 4,
      "id": "e0215154",
      "metadata": {
        "id": "e0215154",
        "colab": {
          "base_uri": "https://localhost:8080/"
        },
        "outputId": "42078f50-444e-425c-99d5-3e1a76ab1d4e"
      },
      "outputs": [
        {
          "output_type": "stream",
          "name": "stdout",
          "text": [
            "--2023-01-24 17:54:15--  https://bin.equinox.io/c/4VmDzA7iaHb/ngrok-stable-linux-amd64.zip\n",
            "Resolving bin.equinox.io (bin.equinox.io)... 18.205.222.128, 54.237.133.81, 52.202.168.65, ...\n",
            "Connecting to bin.equinox.io (bin.equinox.io)|18.205.222.128|:443... connected.\n",
            "HTTP request sent, awaiting response... 200 OK\n",
            "Length: 13832437 (13M) [application/octet-stream]\n",
            "Saving to: ‘ngrok-stable-linux-amd64.zip’\n",
            "\n",
            "ngrok-stable-linux- 100%[===================>]  13.19M  3.49MB/s    in 4.8s    \n",
            "\n",
            "2023-01-24 17:54:20 (2.76 MB/s) - ‘ngrok-stable-linux-amd64.zip’ saved [13832437/13832437]\n",
            "\n",
            "Archive:  ngrok-stable-linux-amd64.zip\n",
            "  inflating: ngrok                   \n",
            "{\"tunnels\":[],\"uri\":\"/api/tunnels\"}\n"
          ]
        }
      ],
      "source": [
        "!wget https://bin.equinox.io/c/4VmDzA7iaHb/ngrok-stable-linux-amd64.zip\n",
        "!unzip ngrok-stable-linux-amd64.zip\n",
        "get_ipython().system_raw('./ngrok http 4050 &')\n",
        "!curl -s http://localhost:4040/api/tunnels"
      ]
    },
    {
      "cell_type": "markdown",
      "id": "0829960a",
      "metadata": {
        "id": "0829960a"
      },
      "source": [
        "---------------------------------------------------"
      ]
    },
    {
      "cell_type": "code",
      "execution_count": 5,
      "metadata": {
        "tags": [],
        "id": "g7iTLTJh_YJn",
        "colab": {
          "base_uri": "https://localhost:8080/"
        },
        "outputId": "9d2bba12-e4de-41d6-ab9e-e7ac2651e295"
      },
      "outputs": [
        {
          "output_type": "stream",
          "name": "stdout",
          "text": [
            "\u001b[?25l     \u001b[90m━━━━━━━━━━━━━━━━━━━━━━━━━━━━━━━━━━━━━━━━\u001b[0m \u001b[32m0.0/235.9 KB\u001b[0m \u001b[31m?\u001b[0m eta \u001b[36m-:--:--\u001b[0m\r\u001b[2K     \u001b[90m━━━━━━━━━━━━━━━━━━━━━━━━━━━━━━━━━━━━━━━\u001b[0m \u001b[32m235.9/235.9 KB\u001b[0m \u001b[31m7.6 MB/s\u001b[0m eta \u001b[36m0:00:00\u001b[0m\n",
            "\u001b[?25h"
          ]
        }
      ],
      "source": [
        "# use o config [.config('spark.ui.port', '4050') \\] caso queira ver o spark UI no colab, caso contrário pode retirar esta configuração\n",
        "!pip install -q findspark\n",
        "!pip install -q unidecode\n",
        "import findspark\n",
        "findspark.init()\n",
        "\n",
        "import requests\n",
        "import json\n",
        "import unidecode\n",
        "from pyspark.sql import SparkSession\n",
        "\n",
        "spark = SparkSession.builder \\\n",
        "      .master(\"local[1]\") \\\n",
        "      .appName(\"SparkByExamples.com\") \\\n",
        "      .config('spark.ui.port', '4050') \\\n",
        "      .getOrCreate()"
      ],
      "id": "g7iTLTJh_YJn"
    },
    {
      "cell_type": "code",
      "execution_count": null,
      "id": "cdc739f4-2ebf-4ff2-91ff-89689510e618",
      "metadata": {
        "tags": [],
        "id": "cdc739f4-2ebf-4ff2-91ff-89689510e618"
      },
      "outputs": [],
      "source": [
        "# Buscar cidades do Espírito Santo\n",
        "# TODO\n",
        "\n",
        "# Criar data frame com as cidades\n",
        "# TODO\n",
        "\n",
        "# Criar view com as cidades\n",
        "# TODO"
      ]
    },
    {
      "cell_type": "code",
      "execution_count": null,
      "id": "c4a40a6f-d5f1-4524-9d0b-d1e6e24dfbfa",
      "metadata": {
        "tags": [],
        "id": "c4a40a6f-d5f1-4524-9d0b-d1e6e24dfbfa"
      },
      "outputs": [],
      "source": [
        "# Buscar previsão do tempo para as cidades\n",
        "# TODO\n",
        "\n",
        "# Criar data frame com as previsões\n",
        "# TODO\n",
        "\n",
        "# Criar view com as previsões\n",
        "# TODO"
      ]
    },
    {
      "cell_type": "code",
      "execution_count": null,
      "id": "bbc2a925-c707-46f0-a2e2-e0e0164a7312",
      "metadata": {
        "id": "bbc2a925-c707-46f0-a2e2-e0e0164a7312"
      },
      "outputs": [],
      "source": [
        "# Criar DF da Tabela 1\n",
        "# TODO"
      ]
    },
    {
      "cell_type": "code",
      "execution_count": null,
      "id": "3bab3315-f50b-4269-8823-ccfda0fefbfe",
      "metadata": {
        "id": "3bab3315-f50b-4269-8823-ccfda0fefbfe"
      },
      "outputs": [],
      "source": [
        "# Criar DF da Tabela 2\n",
        "# TODO"
      ]
    },
    {
      "cell_type": "code",
      "execution_count": null,
      "id": "c1ff378b-4c24-47dc-aba1-742211cd385d",
      "metadata": {
        "id": "c1ff378b-4c24-47dc-aba1-742211cd385d"
      },
      "outputs": [],
      "source": [
        "# Exportar CSVs\n",
        "# TODO"
      ]
    },
    {
      "cell_type": "code",
      "source": [
        "# Realizando a requisição HTTP com o método GET, utilizando a URL abaixo\n",
        "\n",
        "import json\n",
        "from pprint import pprint\n",
        "\n",
        "requisicao = requests.get(\"https://servicodados.ibge.gov.br/api/v1/localidades/estados/32/municipios\")\n",
        "with open(\"/content/response-api-ibge.json\") as file:\n",
        "  data = json.load(file)\n",
        "\n",
        "pprint(data)"
      ],
      "metadata": {
        "id": "ylowz0E5lf3d"
      },
      "id": "ylowz0E5lf3d",
      "execution_count": null,
      "outputs": []
    },
    {
      "cell_type": "code",
      "source": [
        "# Realizando a requisição HTTP com o método GET, utilizando a URL abaixo\n",
        "\n",
        "ResponseApi = requests.get(\"https://servicodados.ibge.gov.br/api/v1/localidades/estados/32/municipios\")\n",
        "ResponseJson = ResponseApi.json()\n",
        "\n",
        "with open('FileRespJson.json', 'w') as json_file:\n",
        "  json.dump(ResponseJson, json_file, indent=4)"
      ],
      "metadata": {
        "id": "j188dmMb99Za"
      },
      "id": "j188dmMb99Za",
      "execution_count": 29,
      "outputs": []
    },
    {
      "cell_type": "code",
      "source": [
        "# Realizando a requisição HTTP com o método GET, utilizando a URL abaixo\n",
        "import pandas as pd\n",
        "\n",
        "ResponseApi = requests.get(\"https://servicodados.ibge.gov.br/api/v1/localidades/estados/32/municipios\")\n",
        "ResponseJson = ResponseApi.json()\n",
        "\n",
        "df = pd.read_json(\"/content/FileRespJson.json\")\n",
        "df.head()"
      ],
      "metadata": {
        "id": "2TR4FGwZGR-x",
        "outputId": "b4eaf069-1252-488f-9332-65d07c4b3264",
        "colab": {
          "base_uri": "https://localhost:8080/",
          "height": 206
        }
      },
      "id": "2TR4FGwZGR-x",
      "execution_count": 38,
      "outputs": [
        {
          "output_type": "execute_result",
          "data": {
            "text/plain": [
              "        id                nome  \\\n",
              "0  3200102      Afonso Cláudio   \n",
              "1  3200136        Águia Branca   \n",
              "2  3200169  Água Doce do Norte   \n",
              "3  3200201              Alegre   \n",
              "4  3200300      Alfredo Chaves   \n",
              "\n",
              "                                        microrregiao  \\\n",
              "0  {'id': 32007, 'nome': 'Afonso Cláudio', 'mesor...   \n",
              "1  {'id': 32002, 'nome': 'Nova Venécia', 'mesorre...   \n",
              "2  {'id': 32001, 'nome': 'Barra de São Francisco'...   \n",
              "3  {'id': 32011, 'nome': 'Alegre', 'mesorregiao':...   \n",
              "4  {'id': 32010, 'nome': 'Guarapari', 'mesorregia...   \n",
              "\n",
              "                                     regiao-imediata  \n",
              "0  {'id': 320002, 'nome': 'Afonso Cláudio - Venda...  \n",
              "1  {'id': 320005, 'nome': 'Colatina', 'regiao-int...  \n",
              "2  {'id': 320006, 'nome': 'Nova Venécia', 'regiao...  \n",
              "3  {'id': 320008, 'nome': 'Alegre', 'regiao-inter...  \n",
              "4  {'id': 320001, 'nome': 'Vitória', 'regiao-inte...  "
            ],
            "text/html": [
              "\n",
              "  <div id=\"df-b3752afd-061f-4145-afb4-f13b129f43ca\">\n",
              "    <div class=\"colab-df-container\">\n",
              "      <div>\n",
              "<style scoped>\n",
              "    .dataframe tbody tr th:only-of-type {\n",
              "        vertical-align: middle;\n",
              "    }\n",
              "\n",
              "    .dataframe tbody tr th {\n",
              "        vertical-align: top;\n",
              "    }\n",
              "\n",
              "    .dataframe thead th {\n",
              "        text-align: right;\n",
              "    }\n",
              "</style>\n",
              "<table border=\"1\" class=\"dataframe\">\n",
              "  <thead>\n",
              "    <tr style=\"text-align: right;\">\n",
              "      <th></th>\n",
              "      <th>id</th>\n",
              "      <th>nome</th>\n",
              "      <th>microrregiao</th>\n",
              "      <th>regiao-imediata</th>\n",
              "    </tr>\n",
              "  </thead>\n",
              "  <tbody>\n",
              "    <tr>\n",
              "      <th>0</th>\n",
              "      <td>3200102</td>\n",
              "      <td>Afonso Cláudio</td>\n",
              "      <td>{'id': 32007, 'nome': 'Afonso Cláudio', 'mesor...</td>\n",
              "      <td>{'id': 320002, 'nome': 'Afonso Cláudio - Venda...</td>\n",
              "    </tr>\n",
              "    <tr>\n",
              "      <th>1</th>\n",
              "      <td>3200136</td>\n",
              "      <td>Águia Branca</td>\n",
              "      <td>{'id': 32002, 'nome': 'Nova Venécia', 'mesorre...</td>\n",
              "      <td>{'id': 320005, 'nome': 'Colatina', 'regiao-int...</td>\n",
              "    </tr>\n",
              "    <tr>\n",
              "      <th>2</th>\n",
              "      <td>3200169</td>\n",
              "      <td>Água Doce do Norte</td>\n",
              "      <td>{'id': 32001, 'nome': 'Barra de São Francisco'...</td>\n",
              "      <td>{'id': 320006, 'nome': 'Nova Venécia', 'regiao...</td>\n",
              "    </tr>\n",
              "    <tr>\n",
              "      <th>3</th>\n",
              "      <td>3200201</td>\n",
              "      <td>Alegre</td>\n",
              "      <td>{'id': 32011, 'nome': 'Alegre', 'mesorregiao':...</td>\n",
              "      <td>{'id': 320008, 'nome': 'Alegre', 'regiao-inter...</td>\n",
              "    </tr>\n",
              "    <tr>\n",
              "      <th>4</th>\n",
              "      <td>3200300</td>\n",
              "      <td>Alfredo Chaves</td>\n",
              "      <td>{'id': 32010, 'nome': 'Guarapari', 'mesorregia...</td>\n",
              "      <td>{'id': 320001, 'nome': 'Vitória', 'regiao-inte...</td>\n",
              "    </tr>\n",
              "  </tbody>\n",
              "</table>\n",
              "</div>\n",
              "      <button class=\"colab-df-convert\" onclick=\"convertToInteractive('df-b3752afd-061f-4145-afb4-f13b129f43ca')\"\n",
              "              title=\"Convert this dataframe to an interactive table.\"\n",
              "              style=\"display:none;\">\n",
              "        \n",
              "  <svg xmlns=\"http://www.w3.org/2000/svg\" height=\"24px\"viewBox=\"0 0 24 24\"\n",
              "       width=\"24px\">\n",
              "    <path d=\"M0 0h24v24H0V0z\" fill=\"none\"/>\n",
              "    <path d=\"M18.56 5.44l.94 2.06.94-2.06 2.06-.94-2.06-.94-.94-2.06-.94 2.06-2.06.94zm-11 1L8.5 8.5l.94-2.06 2.06-.94-2.06-.94L8.5 2.5l-.94 2.06-2.06.94zm10 10l.94 2.06.94-2.06 2.06-.94-2.06-.94-.94-2.06-.94 2.06-2.06.94z\"/><path d=\"M17.41 7.96l-1.37-1.37c-.4-.4-.92-.59-1.43-.59-.52 0-1.04.2-1.43.59L10.3 9.45l-7.72 7.72c-.78.78-.78 2.05 0 2.83L4 21.41c.39.39.9.59 1.41.59.51 0 1.02-.2 1.41-.59l7.78-7.78 2.81-2.81c.8-.78.8-2.07 0-2.86zM5.41 20L4 18.59l7.72-7.72 1.47 1.35L5.41 20z\"/>\n",
              "  </svg>\n",
              "      </button>\n",
              "      \n",
              "  <style>\n",
              "    .colab-df-container {\n",
              "      display:flex;\n",
              "      flex-wrap:wrap;\n",
              "      gap: 12px;\n",
              "    }\n",
              "\n",
              "    .colab-df-convert {\n",
              "      background-color: #E8F0FE;\n",
              "      border: none;\n",
              "      border-radius: 50%;\n",
              "      cursor: pointer;\n",
              "      display: none;\n",
              "      fill: #1967D2;\n",
              "      height: 32px;\n",
              "      padding: 0 0 0 0;\n",
              "      width: 32px;\n",
              "    }\n",
              "\n",
              "    .colab-df-convert:hover {\n",
              "      background-color: #E2EBFA;\n",
              "      box-shadow: 0px 1px 2px rgba(60, 64, 67, 0.3), 0px 1px 3px 1px rgba(60, 64, 67, 0.15);\n",
              "      fill: #174EA6;\n",
              "    }\n",
              "\n",
              "    [theme=dark] .colab-df-convert {\n",
              "      background-color: #3B4455;\n",
              "      fill: #D2E3FC;\n",
              "    }\n",
              "\n",
              "    [theme=dark] .colab-df-convert:hover {\n",
              "      background-color: #434B5C;\n",
              "      box-shadow: 0px 1px 3px 1px rgba(0, 0, 0, 0.15);\n",
              "      filter: drop-shadow(0px 1px 2px rgba(0, 0, 0, 0.3));\n",
              "      fill: #FFFFFF;\n",
              "    }\n",
              "  </style>\n",
              "\n",
              "      <script>\n",
              "        const buttonEl =\n",
              "          document.querySelector('#df-b3752afd-061f-4145-afb4-f13b129f43ca button.colab-df-convert');\n",
              "        buttonEl.style.display =\n",
              "          google.colab.kernel.accessAllowed ? 'block' : 'none';\n",
              "\n",
              "        async function convertToInteractive(key) {\n",
              "          const element = document.querySelector('#df-b3752afd-061f-4145-afb4-f13b129f43ca');\n",
              "          const dataTable =\n",
              "            await google.colab.kernel.invokeFunction('convertToInteractive',\n",
              "                                                     [key], {});\n",
              "          if (!dataTable) return;\n",
              "\n",
              "          const docLinkHtml = 'Like what you see? Visit the ' +\n",
              "            '<a target=\"_blank\" href=https://colab.research.google.com/notebooks/data_table.ipynb>data table notebook</a>'\n",
              "            + ' to learn more about interactive tables.';\n",
              "          element.innerHTML = '';\n",
              "          dataTable['output_type'] = 'display_data';\n",
              "          await google.colab.output.renderOutput(dataTable, element);\n",
              "          const docLink = document.createElement('div');\n",
              "          docLink.innerHTML = docLinkHtml;\n",
              "          element.appendChild(docLink);\n",
              "        }\n",
              "      </script>\n",
              "    </div>\n",
              "  </div>\n",
              "  "
            ]
          },
          "metadata": {},
          "execution_count": 38
        }
      ]
    }
  ],
  "metadata": {
    "kernelspec": {
      "display_name": "base",
      "language": "python",
      "name": "python3"
    },
    "language_info": {
      "codemirror_mode": {
        "name": "ipython",
        "version": 3
      },
      "file_extension": ".py",
      "mimetype": "text/x-python",
      "name": "python",
      "nbconvert_exporter": "python",
      "pygments_lexer": "ipython3",
      "version": "3.9.13 (main, Aug 25 2022, 23:26:10) \n[GCC 11.2.0]"
    },
    "vscode": {
      "interpreter": {
        "hash": "a45cd9dd122d240dcc4ef38faedf9d2d3fd8f7b31d6f5582a2663b9810b40f8f"
      }
    },
    "colab": {
      "provenance": [],
      "include_colab_link": true
    }
  },
  "nbformat": 4,
  "nbformat_minor": 5
}