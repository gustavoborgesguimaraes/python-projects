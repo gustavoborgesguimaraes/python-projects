{
  "cells": [
    {
      "cell_type": "markdown",
      "metadata": {
        "id": "view-in-github",
        "colab_type": "text"
      },
      "source": [
        "<a href=\"https://colab.research.google.com/github/gustavoborgesguimaraes/python-projects/blob/main/desafio_autoglass_nivelamento.ipynb\" target=\"_parent\"><img src=\"https://colab.research.google.com/assets/colab-badge.svg\" alt=\"Open In Colab\"/></a>"
      ]
    },
    {
      "cell_type": "markdown",
      "id": "580dd39c-f066-4c32-af47-648eb71f5918",
      "metadata": {
        "tags": [],
        "id": "580dd39c-f066-4c32-af47-648eb71f5918"
      },
      "source": [
        "# Autor: Gustavo Borges Guimarães\n",
        "\n",
        "# Desafio: Consumo de Dados para Previsão do Tempo dos Municípios do ES.\n",
        "\n",
        "## Objetivo\n",
        "\n",
        "Avaliar conhecimentos nas linguagens Python e SQL e na engine de processamento Apache Spark.\n",
        "\n",
        "## Descrição\n",
        "\n",
        "Neste desafio, você desenvolverá um notebook que será responsável por extrair dados de previsão do tempo dos municípios do ES. Para consultar todas as cidades dessa região, utilizaremos a API do IBGE. No caso, basta realizar uma requisição HTTP com o método GET, utilizando a URL abaixo:\n",
        "\n",
        "```\n",
        "https://servicodados.ibge.gov.br/api/v1/localidades/estados/32/municipios\n",
        "```\n",
        "\n",
        "Com esses dados, gerar um data frame e a partir dele uma temp view. Ex: \"cities\"\n",
        "\n",
        "Utilizando os nomes das cidades, deverão ser consultados os dados de previsão de tempo para cada município. Para realizar essa consulta, poderá ser utilizada qualquer uma das APIs informadas no link abaixo.\n",
        "\n",
        "[Public APIs - Wather](https://github.com/public-apis/public-apis#weather)\n",
        "\n",
        "Obs.: Para algumas, pode ser necessário cadastrar-se para acessar sua API Key. Mas nenhuma delas deve precisar cadastrar cartão de crédito ou adicionar qualquer valor monetário para utilizar. Caso alguma solicite, basta optar por outra.\n",
        "\n",
        "Com os dados consultados, gerar um data frame e partir dele outra temp view. Ex: \"forecasts\"\n",
        "\n",
        "Com as temp views geradas, utilizar Spark SQL para criar queries e gerar data frames das seguintes tabelas:\n",
        "\n",
        "- Tabela 1: dados de previsão do tempo para os próximos cinco dias, para cada data e cidade consultadas. As colunas dessa tabela serão:\n",
        "    - Cidade\n",
        "    - CodigoDaCidade\n",
        "    - Data\n",
        "    - Regiao\n",
        "    - Pais\n",
        "    - Latitude\n",
        "    - Longigute\n",
        "    - TemperaturaMaxima\n",
        "    - TemperaturaMinima\n",
        "    - TemperaturaMedia\n",
        "    - VaiChover\n",
        "    - ChanceDeChuva\n",
        "    - CondicaoDoTempo\n",
        "    - NascerDoSol\n",
        "    - PorDoSol\n",
        "    - VelocidadeMaximaDoVento\n",
        "    \n",
        "    Obs.: Os valores da coluna \"VaiChover\" deverá ser \"Sim\" ou \"Não\". E a coluna \"CodigoDaCidade\" é o ID retornado junto com os nomes da cidades na API do IBGE.\n",
        "    Obs.: Dependendo da API utilizada, algumas colunas podem não existir e ficarão em branco. Você deve optar por uma API que traga o maior número de informações possível.\n",
        "\n",
        "- Tabela 2: quantidade de dias com chuva e sem chuva para os dias consultados, para cada data consultada. Colunas:\n",
        "    - Cidade\n",
        "    - QtdDiasVaiChover\n",
        "    - QtdDiasNaoVaiChover\n",
        "    - TotalDiasMapeados\n",
        "\n",
        "Essas tabelas deverão ser exportadas em formado CSV e entregue no final do desafio.\n",
        "\n",
        "## To Do\n",
        "\n",
        "[ ] - Consultar municípios do ES, gerar um data frame e criar uma temp view com esses dados.\n",
        "[ ] - Consultar dados do tempo para cada município, gerar um data frame e criar uma outra temp view.\n",
        "[ ] - Utilizar Spark SQL para gerar os data frames das Tabelas 1 e 2.\n",
        "[ ] - Exportar os data frames para CSV.\n",
        "\n",
        "## Atenção\n",
        "\n",
        "- Existe um limite de requisições de 10000 requests por conta cadastrada na m3o.\n",
        "- Essa API pode retornar cidades de outras regiões que possuem nome semelhante a alguma cidade do ES. Pode mantê-las ou filtrar para gerar as tabelas apenas com dados de Regiao = Vila Velha. Fica a seu critério.\n",
        "\n",
        "## Entregando o desafio\n",
        "\n",
        "Concluindo todos os passos informados em To Do, basta salvar o arquivo .ipynb do notebook e zipar juntamente com os CSVs das duas tabelas e postar no grupo do Teams.\n",
        "\n"
      ]
    },
    {
      "cell_type": "markdown",
      "id": "ac91e04c",
      "metadata": {
        "id": "ac91e04c"
      },
      "source": [
        "PREPA-----------------------------------------------\n",
        "### Caso queira utilizar o colab do google para executar o script Spark descomente as linhas abaixo"
      ]
    },
    {
      "cell_type": "code",
      "execution_count": null,
      "id": "a1cb6c40-3073-43b0-b7f4-95e7c9dd8245",
      "metadata": {
        "tags": [],
        "id": "a1cb6c40-3073-43b0-b7f4-95e7c9dd8245"
      },
      "outputs": [],
      "source": [
        "#PREPARAÇÃO DO AMBIENTE.\n",
        "\n",
        "#Instalando o JDK.\n",
        "!apt-get install openjdk-11-jdk-headless -qq > /dev/null\n",
        "\n",
        "#Baixando o Apache Hadoop.\n",
        "!wget -q https://dlcdn.apache.org/spark/spark-3.3.1/spark-3.3.1-bin-hadoop3.tgz\n",
        "\n",
        "#Descompactando o Apache Hadoop.\n",
        "!tar xf spark-3.3.1-bin-hadoop3.tgz\n",
        "\n",
        "#Definindo as variáveis de ambiente do Java e do Spark.\n",
        "import os\n",
        "os.environ[\"JAVA_HOME\"] = \"/usr/lib/jvm/java-11-openjdk-amd64\"\n",
        "os.environ[\"SPARK_HOME\"] = \"/content/spark-3.3.1-bin-hadoop3\"\n",
        "\n",
        "#Baixando o ngrok.\n",
        "!wget https://bin.equinox.io/c/4VmDzA7iaHb/ngrok-stable-linux-amd64.zip\n",
        "\n",
        "#Descompactando o ngrok.\n",
        "!unzip ngrok-stable-linux-amd64.zip\n",
        "\n",
        "#Definindo a URL local para a consumo da API.\n",
        "get_ipython().system_raw('./ngrok http 4050 &')\n",
        "!curl -s http://localhost:4040/api/tunnels\n",
        "\n",
        "#Instalando o FindSpark.\n",
        "!pip install -q findspark\n",
        "\n",
        "#Instalando o UniDecode.\n",
        "!pip install -q unidecode\n",
        "\n",
        "#Importando os módulos/libs que serão usados.\n",
        "import findspark\n",
        "findspark.init()\n",
        "from pyspark.sql import SparkSession\n",
        "from pyspark.sql import functions as F\n",
        "from pyspark import SparkContext\n",
        "import requests\n",
        "import json\n",
        "import unidecode\n",
        "import pandas as pd\n",
        "\n",
        "#Buildando o Spark Session\n",
        "spark = SparkSession.builder \\\n",
        "        .master(\"local[1]\") \\\n",
        "        .appName(\"SparkbyExamples.com\") \\\n",
        "        .config('spark.ui.port', '4050') \\\n",
        "        .getOrCreate()"
      ]
    },
    {
      "cell_type": "code",
      "source": [
        "#Constante da Unidade Federativa do ES\n",
        "#Para mais, consulte em \"servicodados.ibge.gov.br\"\n",
        "CodUF = '32'\n",
        "\n",
        "#Endereço da API do IBGE\n",
        "UrlDaApi = f\"https://servicodados.ibge.gov.br/api/v1/localidades/estados/{CodUF}/municipios\"\n",
        "\n",
        "#Efetuando a requisição na API do IBGE\n",
        "RequestDaApi = requests.get(UrlDaApi)"
      ],
      "metadata": {
        "id": "C8WBD1Gm9Hq5"
      },
      "id": "C8WBD1Gm9Hq5",
      "execution_count": 2,
      "outputs": []
    },
    {
      "cell_type": "code",
      "source": [
        "#Convertento o retorno da API em JSON\n",
        "JsonIBGE = RequestDaApi.json()\n",
        "\n",
        "#OPCIONAL: Criando um arquivo JSON local.\n",
        "with open('JsonFileResponse.json', 'w') as json_file:\n",
        "  json.dump(JsonIBGE, json_file, indent=4)\n",
        "\n",
        "#OPCIONAL: Criando um arquivo Parquet local.\n",
        "  #Código...\n",
        "\n",
        "#Criando o DataFrame GERAL da API do IBGE.\n",
        "dfApiIbge = spark.createDataFrame(JsonIBGE)\n",
        "\n",
        "#Criando um DataFrame de cidades com colunas específicas.\n",
        "df_cidades = dfApiIbge.withColumn(\"NomeCidade\", F.col(\"nome\"))\\\n",
        "                      .drop(\"id\", \"microrregiao\", \"nome\", \"regiao-imediata\")\n",
        "                      \n",
        "#Visualizando todos os registros do Data frame Cidades\n",
        "df_cidades.show()"
      ],
      "metadata": {
        "id": "08sjyWTHSILo"
      },
      "id": "08sjyWTHSILo",
      "execution_count": null,
      "outputs": []
    },
    {
      "cell_type": "code",
      "source": [
        "#Criando a TempView \"cities\"\n",
        "df_cidades.createOrReplaceTempView(\"cities\")\n",
        "\n",
        "#Testando a consulta SparkSQL na TempView\n",
        "VarCity = spark.sql('select * from cities')\n",
        "\n",
        "#Criando a coleção de cidades para usar na API de previsões\n",
        "CityCollect = VarCity.collect()"
      ],
      "metadata": {
        "id": "txAb_fDgTWyM"
      },
      "id": "txAb_fDgTWyM",
      "execution_count": 167,
      "outputs": []
    },
    {
      "cell_type": "code",
      "source": [
        "#Criando o Data Frame das previsões do tempo.\n",
        "dfPrevTempo = pd.DataFrame(columns= ['Cidade', 'CodigoDaCidade', 'Pais', 'Latitude',\n",
        "                                     'Longitude', 'NascerDoSol', 'PorDoSol', 'Populacao',\n",
        "                                     'Data', 'TemperaturaMaxima', 'TemperaturaMinima',\n",
        "                                     'SensacaoTermica', 'CondicaoDoTempo', 'VelocidadeDoVento'])\n",
        "\n",
        "#Constantes p/uso na API\n",
        "MyAPIKey = \"d15318e0f35125eb2040ecd74952410a\"\n",
        "StateCod = \"ES\"\n",
        "CountryCod = \"BR\"\n",
        "\n",
        "for cid in CityCollect:\n",
        "  Link = f\"https://api.openweathermap.org/data/2.5/forecast?q={cid['NomeCidade']},{StateCod},{CountryCod}&appid={MyAPIKey}&lang=pt_br\"\n",
        "  Requisicao = requests.get(Link)\n",
        "  ForecastsJson = Requisicao.json()\n",
        "  if ForecastsJson['cod'] == '200':\n",
        "    Cidade = (ForecastsJson['city']['name'])\n",
        "    CodigoDaCidade = (ForecastsJson['city']['id'])\n",
        "    Pais = (ForecastsJson['city']['country'])\n",
        "    Latitude = (ForecastsJson['city']['coord']['lat'])\n",
        "    Longitude = (ForecastsJson['city']['coord']['lon'])\n",
        "    NascerDoSol = (ForecastsJson['city']['sunrise'])\n",
        "    PorDoSol = (ForecastsJson['city']['sunset'])\n",
        "    Populacao = (ForecastsJson['city']['population'])\n",
        "    for CidDesc in ForecastsJson['list']:\n",
        "      Data = (CidDesc['dt_txt']) #Data\n",
        "      TemperaturaMaxima = (CidDesc['main']['temp_max'] -273.15)\n",
        "      TemperaturaMinima = (CidDesc['main']['temp_min'] -273.15)\n",
        "      SensacaoTermica = (CidDesc['main']['feels_like'] -273.15)\n",
        "      CondicaoDoTempo = (CidDesc['weather'][0]['description'])\n",
        "      VelocidadeDoVento = (CidDesc['wind']['speed'])\n",
        "      #Inserindo os dados no DataFrame de Previsões do tempo\n",
        "      dfPrevTempo = dfPrevTempo.append({'Cidade' : Cidade, 'CodigoDaCidade' : CodigoDaCidade, 'Pais' : Pais, 'Latitude' : Latitude,\n",
        "                                        'Longitude' : Longitude, 'NascerDoSol' : NascerDoSol, 'PorDoSol' : PorDoSol, 'Populacao' : Populacao,\n",
        "                                        'Data' : Data, 'TemperaturaMaxima' : TemperaturaMaxima, 'TemperaturaMinima' : TemperaturaMinima,\n",
        "                                        'SensacaoTermica' : SensacaoTermica, 'CondicaoDoTempo' : CondicaoDoTempo, 'VelocidadeDoVento' : VelocidadeDoVento},\n",
        "                                        ignore_index = True)\n"
      ],
      "metadata": {
        "id": "f2n_jXsLX2Qa"
      },
      "id": "f2n_jXsLX2Qa",
      "execution_count": 22,
      "outputs": []
    },
    {
      "cell_type": "code",
      "source": [
        "#Criando a TempView \"Forecasts\"\n",
        "dfPrevTempo = spark.createDataFrame(dfPrevTempo)\n",
        "dfPrevTempo.createOrReplaceTempView(\"forecasts\")\n"
      ],
      "metadata": {
        "id": "muZomb57x3h6"
      },
      "id": "muZomb57x3h6",
      "execution_count": null,
      "outputs": []
    },
    {
      "cell_type": "code",
      "source": [
        "#Visualizando os dados da TemView \"Forecasts\"\n",
        "spark.sql('select * from forecasts').show()"
      ],
      "metadata": {
        "colab": {
          "base_uri": "https://localhost:8080/"
        },
        "id": "-qaTN6i287-C",
        "outputId": "b6d5a59e-659d-4c92-b5bd-bbfefbe252ac"
      },
      "id": "-qaTN6i287-C",
      "execution_count": 117,
      "outputs": [
        {
          "output_type": "stream",
          "name": "stdout",
          "text": [
            "+--------------+--------------+----+--------+---------+-----------+----------+---------+-------------------+------------------+------------------+------------------+---------------+-----------------+\n",
            "|        Cidade|CodigoDaCidade|Pais|Latitude|Longitude|NascerDoSol|  PorDoSol|Populacao|               Data| TemperaturaMaxima| TemperaturaMinima|   SensacaoTermica|CondicaoDoTempo|VelocidadeDoVento|\n",
            "+--------------+--------------+----+--------+---------+-----------+----------+---------+-------------------+------------------+------------------+------------------+---------------+-----------------+\n",
            "|Afonso Cláudio|       3473129|  BR|-20.0742| -41.1239| 1674807912|1674854936|    13543|2023-01-27 18:00:00|25.610000000000014|25.260000000000048| 26.52000000000004| chuva moderada|             2.24|\n",
            "|Afonso Cláudio|       3473129|  BR|-20.0742| -41.1239| 1674807912|1674854936|    13543|2023-01-27 21:00:00|24.170000000000016|23.370000000000005| 25.04000000000002| chuva moderada|             1.13|\n",
            "|Afonso Cláudio|       3473129|  BR|-20.0742| -41.1239| 1674807912|1674854936|    13543|2023-01-28 00:00:00|21.420000000000016|21.420000000000016|22.120000000000005|     chuva leve|             1.05|\n",
            "|Afonso Cláudio|       3473129|  BR|-20.0742| -41.1239| 1674807912|1674854936|    13543|2023-01-28 03:00:00|              21.0|              21.0|21.689999999999998|        nublado|             0.97|\n",
            "|Afonso Cláudio|       3473129|  BR|-20.0742| -41.1239| 1674807912|1674854936|    13543|2023-01-28 06:00:00| 20.55000000000001| 20.55000000000001|             21.25|     chuva leve|             0.93|\n",
            "|Afonso Cláudio|       3473129|  BR|-20.0742| -41.1239| 1674807912|1674854936|    13543|2023-01-28 09:00:00|20.340000000000032|20.340000000000032|21.010000000000048|        nublado|             0.53|\n",
            "|Afonso Cláudio|       3473129|  BR|-20.0742| -41.1239| 1674807912|1674854936|    13543|2023-01-28 12:00:00| 24.54000000000002| 24.54000000000002| 25.27000000000004|        nublado|             1.51|\n",
            "|Afonso Cláudio|       3473129|  BR|-20.0742| -41.1239| 1674807912|1674854936|    13543|2023-01-28 15:00:00| 27.30000000000001| 27.30000000000001|29.470000000000027|     chuva leve|             2.31|\n",
            "|Afonso Cláudio|       3473129|  BR|-20.0742| -41.1239| 1674807912|1674854936|    13543|2023-01-28 18:00:00|27.180000000000007|27.180000000000007|29.439999999999998|     chuva leve|             2.15|\n",
            "|Afonso Cláudio|       3473129|  BR|-20.0742| -41.1239| 1674807912|1674854936|    13543|2023-01-28 21:00:00|24.100000000000023|24.100000000000023|24.939999999999998|     chuva leve|             1.62|\n",
            "|Afonso Cláudio|       3473129|  BR|-20.0742| -41.1239| 1674807912|1674854936|    13543|2023-01-29 00:00:00|21.460000000000036|21.460000000000036|22.189999999999998|        nublado|             0.92|\n",
            "|Afonso Cláudio|       3473129|  BR|-20.0742| -41.1239| 1674807912|1674854936|    13543|2023-01-29 03:00:00|20.960000000000036|20.960000000000036|21.700000000000045|        nublado|             0.79|\n",
            "|Afonso Cláudio|       3473129|  BR|-20.0742| -41.1239| 1674807912|1674854936|    13543|2023-01-29 06:00:00| 21.58000000000004| 21.58000000000004|22.350000000000023|     chuva leve|             1.01|\n",
            "|Afonso Cláudio|       3473129|  BR|-20.0742| -41.1239| 1674807912|1674854936|    13543|2023-01-29 09:00:00| 21.05000000000001| 21.05000000000001| 21.77000000000004|     chuva leve|             0.37|\n",
            "|Afonso Cláudio|       3473129|  BR|-20.0742| -41.1239| 1674807912|1674854936|    13543|2023-01-29 12:00:00|24.510000000000048|24.510000000000048| 25.24000000000001|     chuva leve|             1.66|\n",
            "|Afonso Cláudio|       3473129|  BR|-20.0742| -41.1239| 1674807912|1674854936|    13543|2023-01-29 15:00:00|26.700000000000045|26.700000000000045| 28.57000000000005|     chuva leve|             2.24|\n",
            "|Afonso Cláudio|       3473129|  BR|-20.0742| -41.1239| 1674807912|1674854936|    13543|2023-01-29 18:00:00|26.600000000000023|26.600000000000023|26.600000000000023|        nublado|             2.18|\n",
            "|Afonso Cláudio|       3473129|  BR|-20.0742| -41.1239| 1674807912|1674854936|    13543|2023-01-29 21:00:00|              24.0|              24.0|24.810000000000002|        nublado|             1.08|\n",
            "|Afonso Cláudio|       3473129|  BR|-20.0742| -41.1239| 1674807912|1674854936|    13543|2023-01-30 00:00:00|21.480000000000018|21.480000000000018|22.220000000000027|        nublado|             1.13|\n",
            "|Afonso Cláudio|       3473129|  BR|-20.0742| -41.1239| 1674807912|1674854936|    13543|2023-01-30 03:00:00|21.160000000000025|21.160000000000025|21.920000000000016|        nublado|             1.28|\n",
            "+--------------+--------------+----+--------+---------+-----------+----------+---------+-------------------+------------------+------------------+------------------+---------------+-----------------+\n",
            "only showing top 20 rows\n",
            "\n"
          ]
        }
      ]
    },
    {
      "cell_type": "code",
      "source": [
        "#Criando a tabela 1 com SparkSQL\n",
        "Query1 = \"\"\"\n",
        "  select\n",
        "    f.Cidade as Cidade,\n",
        "    f.CodigoDaCidade as CodigoDaCidade,\n",
        "    f.Data as Data,\n",
        "    'Sudeste' as Regiao,\n",
        "    f.Pais as Pais,\n",
        "    f.Latitude as Latitude,\n",
        "    f.Longitude as Longigute,\n",
        "    f.TemperaturaMaxima as TemperaturaMaxima,\n",
        "    f.TemperaturaMinima as TemperaturaMinima,\n",
        "    (f.TemperaturaMaxima + f.TemperaturaMinima)/2 as TemperaturaMedia,\n",
        "    f.SensacaoTermica as SensacaoTermica,\n",
        "    (case f.CondicaoDoTempo\n",
        "          when 'chuva leve' then 'Sim'\n",
        "          when 'chuva moderada' then 'Sim'\n",
        "          when 'chuva forte' then 'Sim'\n",
        "          else 'Não'\n",
        "    end) as VaiChover,\n",
        "    f.CondicaoDoTempo as CondicaoDoTempo,\n",
        "    f.NascerDoSol as NascerDoSol,\n",
        "    f.PorDoSol as PorDoSol,\n",
        "    f.VelocidadeDoVento as VelocidadeMaximaDoVento,\n",
        "    f.Populacao as Populacao\n",
        "  from forecasts f\n",
        "\"\"\"\n",
        "\n",
        "DataFrame1 = spark.sql(Query1)\n",
        "DataFrame1.createOrReplaceTempView(\"tabela1\")\n",
        "\n",
        "#Efetuando a consulta da \"Tabela 1\"\n",
        "spark.sql('select * from tabela1').show()"
      ],
      "metadata": {
        "colab": {
          "base_uri": "https://localhost:8080/"
        },
        "id": "hpnHFn3LsP_i",
        "outputId": "3c37608f-8c0c-40aa-da74-db1f2e76ea0e"
      },
      "id": "hpnHFn3LsP_i",
      "execution_count": 173,
      "outputs": [
        {
          "output_type": "stream",
          "name": "stdout",
          "text": [
            "+--------------+--------------+-------------------+-------+----+--------+---------+------------------+------------------+------------------+------------------+---------+---------------+-----------+----------+-----------------------+---------+\n",
            "|        Cidade|CodigoDaCidade|               Data| Regiao|Pais|Latitude|Longigute| TemperaturaMaxima| TemperaturaMinima|  TemperaturaMedia|   SensacaoTermica|VaiChover|CondicaoDoTempo|NascerDoSol|  PorDoSol|VelocidadeMaximaDoVento|Populacao|\n",
            "+--------------+--------------+-------------------+-------+----+--------+---------+------------------+------------------+------------------+------------------+---------+---------------+-----------+----------+-----------------------+---------+\n",
            "|Afonso Cláudio|       3473129|2023-01-27 18:00:00|Sudeste|  BR|-20.0742| -41.1239|25.610000000000014|25.260000000000048| 25.43500000000003| 26.52000000000004|      Sim| chuva moderada| 1674807912|1674854936|                   2.24|    13543|\n",
            "|Afonso Cláudio|       3473129|2023-01-27 21:00:00|Sudeste|  BR|-20.0742| -41.1239|24.170000000000016|23.370000000000005| 23.77000000000001| 25.04000000000002|      Sim| chuva moderada| 1674807912|1674854936|                   1.13|    13543|\n",
            "|Afonso Cláudio|       3473129|2023-01-28 00:00:00|Sudeste|  BR|-20.0742| -41.1239|21.420000000000016|21.420000000000016|21.420000000000016|22.120000000000005|      Sim|     chuva leve| 1674807912|1674854936|                   1.05|    13543|\n",
            "|Afonso Cláudio|       3473129|2023-01-28 03:00:00|Sudeste|  BR|-20.0742| -41.1239|              21.0|              21.0|              21.0|21.689999999999998|      Não|        nublado| 1674807912|1674854936|                   0.97|    13543|\n",
            "|Afonso Cláudio|       3473129|2023-01-28 06:00:00|Sudeste|  BR|-20.0742| -41.1239| 20.55000000000001| 20.55000000000001| 20.55000000000001|             21.25|      Sim|     chuva leve| 1674807912|1674854936|                   0.93|    13543|\n",
            "|Afonso Cláudio|       3473129|2023-01-28 09:00:00|Sudeste|  BR|-20.0742| -41.1239|20.340000000000032|20.340000000000032|20.340000000000032|21.010000000000048|      Não|        nublado| 1674807912|1674854936|                   0.53|    13543|\n",
            "|Afonso Cláudio|       3473129|2023-01-28 12:00:00|Sudeste|  BR|-20.0742| -41.1239| 24.54000000000002| 24.54000000000002| 24.54000000000002| 25.27000000000004|      Não|        nublado| 1674807912|1674854936|                   1.51|    13543|\n",
            "|Afonso Cláudio|       3473129|2023-01-28 15:00:00|Sudeste|  BR|-20.0742| -41.1239| 27.30000000000001| 27.30000000000001| 27.30000000000001|29.470000000000027|      Sim|     chuva leve| 1674807912|1674854936|                   2.31|    13543|\n",
            "|Afonso Cláudio|       3473129|2023-01-28 18:00:00|Sudeste|  BR|-20.0742| -41.1239|27.180000000000007|27.180000000000007|27.180000000000007|29.439999999999998|      Sim|     chuva leve| 1674807912|1674854936|                   2.15|    13543|\n",
            "|Afonso Cláudio|       3473129|2023-01-28 21:00:00|Sudeste|  BR|-20.0742| -41.1239|24.100000000000023|24.100000000000023|24.100000000000023|24.939999999999998|      Sim|     chuva leve| 1674807912|1674854936|                   1.62|    13543|\n",
            "|Afonso Cláudio|       3473129|2023-01-29 00:00:00|Sudeste|  BR|-20.0742| -41.1239|21.460000000000036|21.460000000000036|21.460000000000036|22.189999999999998|      Não|        nublado| 1674807912|1674854936|                   0.92|    13543|\n",
            "|Afonso Cláudio|       3473129|2023-01-29 03:00:00|Sudeste|  BR|-20.0742| -41.1239|20.960000000000036|20.960000000000036|20.960000000000036|21.700000000000045|      Não|        nublado| 1674807912|1674854936|                   0.79|    13543|\n",
            "|Afonso Cláudio|       3473129|2023-01-29 06:00:00|Sudeste|  BR|-20.0742| -41.1239| 21.58000000000004| 21.58000000000004| 21.58000000000004|22.350000000000023|      Sim|     chuva leve| 1674807912|1674854936|                   1.01|    13543|\n",
            "|Afonso Cláudio|       3473129|2023-01-29 09:00:00|Sudeste|  BR|-20.0742| -41.1239| 21.05000000000001| 21.05000000000001| 21.05000000000001| 21.77000000000004|      Sim|     chuva leve| 1674807912|1674854936|                   0.37|    13543|\n",
            "|Afonso Cláudio|       3473129|2023-01-29 12:00:00|Sudeste|  BR|-20.0742| -41.1239|24.510000000000048|24.510000000000048|24.510000000000048| 25.24000000000001|      Sim|     chuva leve| 1674807912|1674854936|                   1.66|    13543|\n",
            "|Afonso Cláudio|       3473129|2023-01-29 15:00:00|Sudeste|  BR|-20.0742| -41.1239|26.700000000000045|26.700000000000045|26.700000000000045| 28.57000000000005|      Sim|     chuva leve| 1674807912|1674854936|                   2.24|    13543|\n",
            "|Afonso Cláudio|       3473129|2023-01-29 18:00:00|Sudeste|  BR|-20.0742| -41.1239|26.600000000000023|26.600000000000023|26.600000000000023|26.600000000000023|      Não|        nublado| 1674807912|1674854936|                   2.18|    13543|\n",
            "|Afonso Cláudio|       3473129|2023-01-29 21:00:00|Sudeste|  BR|-20.0742| -41.1239|              24.0|              24.0|              24.0|24.810000000000002|      Não|        nublado| 1674807912|1674854936|                   1.08|    13543|\n",
            "|Afonso Cláudio|       3473129|2023-01-30 00:00:00|Sudeste|  BR|-20.0742| -41.1239|21.480000000000018|21.480000000000018|21.480000000000018|22.220000000000027|      Não|        nublado| 1674807912|1674854936|                   1.13|    13543|\n",
            "|Afonso Cláudio|       3473129|2023-01-30 03:00:00|Sudeste|  BR|-20.0742| -41.1239|21.160000000000025|21.160000000000025|21.160000000000025|21.920000000000016|      Não|        nublado| 1674807912|1674854936|                   1.28|    13543|\n",
            "+--------------+--------------+-------------------+-------+----+--------+---------+------------------+------------------+------------------+------------------+---------+---------------+-----------+----------+-----------------------+---------+\n",
            "only showing top 20 rows\n",
            "\n"
          ]
        }
      ]
    },
    {
      "cell_type": "code",
      "source": [
        "#Criando a tabela 2 com SparkSQL\n",
        "Query2 = \"\"\"\n",
        "  select\n",
        "    tab1.Cidade,\n",
        "    count(case when tab1.VaiChover = 'Sim' then 1 end) as PeriodosDoDiaVaiChover,\n",
        "    count(case when tab1.VaiChover = 'Não' then 1 end) as PeriodosDoDiaNaoVaiChover\n",
        "  from tabela1 tab1\n",
        "  group by 1\n",
        "\"\"\"\n",
        "DataFrame2 = spark.sql(Query2)\n",
        "DataFrame2.createOrReplaceTempView(\"tabela2\")\n",
        "\n",
        "#Efetuando a consulta da \"Tabela 2\"\n",
        "spark.sql('select * from tabela2').show()"
      ],
      "metadata": {
        "colab": {
          "base_uri": "https://localhost:8080/"
        },
        "id": "L1Uqon_e8Qaf",
        "outputId": "4fae9a78-6c1a-44d0-8832-0095e5d01f3e"
      },
      "id": "L1Uqon_e8Qaf",
      "execution_count": 225,
      "outputs": [
        {
          "output_type": "stream",
          "name": "stdout",
          "text": [
            "+--------------------+----------------------+-------------------------+\n",
            "|              Cidade|PeriodosDoDiaVaiChover|PeriodosDoDiaNaoVaiChover|\n",
            "+--------------------+----------------------+-------------------------+\n",
            "|           Ibitirama|                    12|                       28|\n",
            "|              Guaçuí|                    12|                       28|\n",
            "|            Colatina|                    15|                       25|\n",
            "|Cachoeiro de Itap...|                    12|                       28|\n",
            "|          Ecoporanga|                    11|                       29|\n",
            "|        Mantenópolis|                    10|                       30|\n",
            "|               Piúma|                    12|                       28|\n",
            "|            Mucurici|                    10|                       30|\n",
            "|              Apiacá|                    15|                       25|\n",
            "|Venda Nova do Imi...|                    12|                       28|\n",
            "|             Ibatiba|                    17|                       23|\n",
            "|              Pancas|                    10|                       30|\n",
            "|             Ibiraçu|                    12|                       28|\n",
            "|          Marataízes|                     7|                       33|\n",
            "|               Muqui|                    10|                       30|\n",
            "|            Anchieta|                    13|                       27|\n",
            "|              Fundão|                    10|                       30|\n",
            "|            Itaguaçu|                    10|                       30|\n",
            "|       Mimoso do Sul|                    13|                       27|\n",
            "|              Iconha|                    12|                       28|\n",
            "+--------------------+----------------------+-------------------------+\n",
            "only showing top 20 rows\n",
            "\n"
          ]
        }
      ]
    },
    {
      "cell_type": "code",
      "source": [
        "#Exportando as tabelas para CSV\n",
        "DataFrame1.write.option('header', True).csv(\"/content/csv-tab-1\")\n",
        "DataFrame1.write.option('header', True).csv(\"/content/csv-tab-2\")"
      ],
      "metadata": {
        "id": "0MQZZu449KdA"
      },
      "id": "0MQZZu449KdA",
      "execution_count": 56,
      "outputs": []
    },
    {
      "cell_type": "markdown",
      "id": "0829960a",
      "metadata": {
        "id": "0829960a"
      },
      "source": [
        "-------------------------------------------------"
      ]
    }
  ],
  "metadata": {
    "kernelspec": {
      "display_name": "base",
      "language": "python",
      "name": "python3"
    },
    "language_info": {
      "codemirror_mode": {
        "name": "ipython",
        "version": 3
      },
      "file_extension": ".py",
      "mimetype": "text/x-python",
      "name": "python",
      "nbconvert_exporter": "python",
      "pygments_lexer": "ipython3",
      "version": "3.9.13 (main, Aug 25 2022, 23:26:10) \n[GCC 11.2.0]"
    },
    "vscode": {
      "interpreter": {
        "hash": "a45cd9dd122d240dcc4ef38faedf9d2d3fd8f7b31d6f5582a2663b9810b40f8f"
      }
    },
    "colab": {
      "provenance": [],
      "include_colab_link": true
    }
  },
  "nbformat": 4,
  "nbformat_minor": 5
}